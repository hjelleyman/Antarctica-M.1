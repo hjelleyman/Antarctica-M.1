{
 "cells": [
  {
   "cell_type": "markdown",
   "metadata": {},
   "source": [
    "# Dataprep\n",
    "\n",
    "This notebook is primarily used to prep the data for further analysis. It also contains plots of the different timeseries being investigated."
   ]
  },
  {
   "cell_type": "code",
   "execution_count": 1,
   "metadata": {},
   "outputs": [],
   "source": [
    "# Loading modules\n",
    "# dataprocessing can be accessed with dp\n",
    "# plotting can be accessed with plot\n",
    "from modules import *\n",
    "\n",
    "import itertools\n",
    "\n",
    "%load_ext autoreload\n",
    "%autoreload 2"
   ]
  },
  {
   "cell_type": "markdown",
   "metadata": {},
   "source": [
    "Once we have everything loaded we can set the relevant parameters for processing"
   ]
  },
  {
   "cell_type": "code",
   "execution_count": 2,
   "metadata": {},
   "outputs": [],
   "source": [
    "# What data to load\n",
    "load_seaice   = True\n",
    "load_indicies = True\n",
    "load_ERA5     = False\n",
    "\n",
    "# What indicies and variables\n",
    "indicies  = ['SAM','IPO', 'DMI', 'ENSO']\n",
    "variables = ['t2m']\n",
    "\n",
    "# Resolutions to save data as.\n",
    "resolutions = [1]\n",
    "n = 5\n",
    "\n",
    "# temporal averages\n",
    "temporal_resolution = ['monthly', 'seasonal', 'annual']\n",
    "temporal_resolution = ['seasonal', 'annual']\n",
    "\n",
    "# temporal_breakdown\n",
    "temporal_decomposition = ['raw', 'anomalous']\n",
    "\n",
    "# detrending\n",
    "detrend = ['raw', 'detrended']\n",
    "detrend = ['raw']\n",
    "\n",
    "seaice_source = 'nsidc'\n",
    "\n",
    "minyear = 1980\n",
    "maxyear = 2019"
   ]
  },
  {
   "cell_type": "markdown",
   "metadata": {},
   "source": [
    "Now we can do all the computations"
   ]
  },
  {
   "cell_type": "code",
   "execution_count": 3,
   "metadata": {},
   "outputs": [
    {
     "name": "stdout",
     "output_type": "stream",
     "text": [
      "----------------------------------------------------------------------------------------------------------------------\n",
      "                                             Generating a data processor                                             \n",
      "----------------------------------------------------------------------------------------------------------------------\n",
      "----------------------------------------------------------------------------------------------------------------------\n",
      "                                           Loading seaice data from NSIDC                                            \n",
      "----------------------------------------------------------------------------------------------------------------------\n",
      "----------------------------------------------------------------------------------------------------------------------\n",
      "                                                 Loading index data                                                  \n",
      "----------------------------------------------------------------------------------------------------------------------\n"
     ]
    }
   ],
   "source": [
    "# Generate a processor object\n",
    "processor = dp.dataprocessor(rawdatafolder = 'data/', processeddatafolder = 'processed_data/')\n",
    "\n",
    "# Load in datasets\n",
    "processor.load_data(load_seaice   = load_seaice,\n",
    "                    load_indicies = load_indicies,\n",
    "                    load_ERA5     = load_ERA5,\n",
    "                    indicies      = indicies,\n",
    "                    variables     = variables)"
   ]
  },
  {
   "cell_type": "code",
   "execution_count": 4,
   "metadata": {},
   "outputs": [
    {
     "name": "stdout",
     "output_type": "stream",
     "text": [
      "----------------------------------------------------------------------------------------------------------------------\n",
      "                                            Splitting the seaice data up                                             \n",
      "----------------------------------------------------------------------------------------------------------------------\n",
      "1 seasonal raw raw\n",
      "1 seasonal anomalous raw\n",
      "1 annual raw raw\n",
      "1 annual anomalous raw\n",
      "----------------------------------------------------------------------------------------------------------------------\n",
      "                                                        DONE                                                         \n",
      "----------------------------------------------------------------------------------------------------------------------\n",
      "----------------------------------------------------------------------------------------------------------------------\n",
      "                                             Splitting the index data up                                             \n",
      "----------------------------------------------------------------------------------------------------------------------\n",
      "seasonal raw raw\n",
      "seasonal raw raw\n",
      "seasonal raw raw\n",
      "seasonal raw raw\n",
      "seasonal anomalous raw\n",
      "seasonal anomalous raw\n",
      "seasonal anomalous raw\n",
      "seasonal anomalous raw\n",
      "annual raw raw\n",
      "annual raw raw\n",
      "annual raw raw\n",
      "annual raw raw\n",
      "annual anomalous raw\n",
      "annual anomalous raw\n",
      "annual anomalous raw\n",
      "annual anomalous raw\n",
      "----------------------------------------------------------------------------------------------------------------------\n",
      "                                                        DONE                                                         \n",
      "----------------------------------------------------------------------------------------------------------------------\n"
     ]
    }
   ],
   "source": [
    "# Change resolution of data\n",
    "processor.decompose_and_save(resolutions            = resolutions,\n",
    "                             temporal_resolution    = temporal_resolution,\n",
    "                             temporal_decomposition = temporal_decomposition,\n",
    "                             detrend                = detrend)"
   ]
  },
  {
   "cell_type": "code",
   "execution_count": null,
   "metadata": {},
   "outputs": [],
   "source": []
  }
 ],
 "metadata": {
  "kernelspec": {
   "display_name": "Python 3",
   "language": "python",
   "name": "python3"
  },
  "language_info": {
   "codemirror_mode": {
    "name": "ipython",
    "version": 3
   },
   "file_extension": ".py",
   "mimetype": "text/x-python",
   "name": "python",
   "nbconvert_exporter": "python",
   "pygments_lexer": "ipython3",
   "version": "3.8.3"
  }
 },
 "nbformat": 4,
 "nbformat_minor": 4
}
