{
 "cells": [
  {
   "cell_type": "markdown",
   "metadata": {},
   "source": [
    "# Dataprep\n",
    "\n",
    "This notebook is primarily used to prep the data for further analysis. It also contains plots of the different timeseries being investigated."
   ]
  },
  {
   "cell_type": "code",
   "execution_count": 1,
   "metadata": {},
   "outputs": [],
   "source": [
    "# Loading modules\n",
    "# dataprocessing can be accessed with dp\n",
    "# plotting can be accessed with plot\n",
    "from modules import *\n",
    "\n",
    "import itertools\n",
    "\n",
    "%load_ext autoreload\n",
    "%autoreload 2"
   ]
  },
  {
   "cell_type": "markdown",
   "metadata": {},
   "source": [
    "Once we have everything loaded we can set the relevant parameters for processing"
   ]
  },
  {
   "cell_type": "code",
   "execution_count": 5,
   "metadata": {},
   "outputs": [
    {
     "name": "stderr",
     "output_type": "stream",
     "text": [
      "C:\\Users\\Hamish\\Anaconda3\\envs\\Antarctica\\lib\\site-packages\\ipykernel\\ipkernel.py:287: DeprecationWarning: `should_run_async` will not call `transform_cell` automatically in the future. Please pass the result to `transformed_cell` argument and any exception that happen during thetransform in `preprocessing_exc_tuple` in IPython 7.17 and above.\n",
      "  and should_run_async(code)\n"
     ]
    }
   ],
   "source": [
    "# What data to load\n",
    "load_seaice   = True\n",
    "load_indicies = False\n",
    "load_ERA5     = False\n",
    "\n",
    "# What indicies and variables\n",
    "indicies  = ['SAM','IPO', 'DMI', 'ENSO']\n",
    "variables = ['t2m']\n",
    "\n",
    "# Resolutions to save data as.\n",
    "resolutions = [1]\n",
    "n = 5\n",
    "\n",
    "# temporal averages\n",
    "temporal_resolution = ['monthly', 'seasonal', 'annual']\n",
    "temporal_resolution = ['seasonal', 'annual']\n",
    "\n",
    "# temporal_breakdown\n",
    "temporal_decomposition = ['raw', 'anomalous']\n",
    "\n",
    "# detrending\n",
    "detrend = ['raw', 'detrended']\n",
    "detrend = ['raw']\n",
    "\n",
    "seaice_source = 'nsidc'\n",
    "\n",
    "minyear = 1980\n",
    "maxyear = 2019"
   ]
  },
  {
   "cell_type": "markdown",
   "metadata": {},
   "source": [
    "Now we can do all the computations"
   ]
  },
  {
   "cell_type": "code",
   "execution_count": 6,
   "metadata": {},
   "outputs": [
    {
     "name": "stderr",
     "output_type": "stream",
     "text": [
      "C:\\Users\\Hamish\\Anaconda3\\envs\\Antarctica\\lib\\site-packages\\ipykernel\\ipkernel.py:287: DeprecationWarning: `should_run_async` will not call `transform_cell` automatically in the future. Please pass the result to `transformed_cell` argument and any exception that happen during thetransform in `preprocessing_exc_tuple` in IPython 7.17 and above.\n",
      "  and should_run_async(code)\n"
     ]
    },
    {
     "name": "stdout",
     "output_type": "stream",
     "text": [
      "----------------------------------------------------------------------------------------------------------------------\n",
      "                                             Generating a data processor                                             \n",
      "----------------------------------------------------------------------------------------------------------------------\n",
      "----------------------------------------------------------------------------------------------------------------------\n",
      "                                           Loading seaice data from NSIDC                                            \n",
      "----------------------------------------------------------------------------------------------------------------------\n"
     ]
    }
   ],
   "source": [
    "# Generate a processor object\n",
    "processor = dp.dataprocessor(rawdatafolder = 'data/', processeddatafolder = 'processed_data/')\n",
    "\n",
    "# Load in datasets\n",
    "processor.load_data(load_seaice   = load_seaice,\n",
    "                    load_indicies = load_indicies,\n",
    "                    load_ERA5     = load_ERA5,\n",
    "                    indicies      = indicies,\n",
    "                    variables     = variables)"
   ]
  },
  {
   "cell_type": "code",
   "execution_count": 4,
   "metadata": {},
   "outputs": [
    {
     "name": "stderr",
     "output_type": "stream",
     "text": [
      "C:\\Users\\Hamish\\Anaconda3\\envs\\Antarctica\\lib\\site-packages\\ipykernel\\ipkernel.py:287: DeprecationWarning: `should_run_async` will not call `transform_cell` automatically in the future. Please pass the result to `transformed_cell` argument and any exception that happen during thetransform in `preprocessing_exc_tuple` in IPython 7.17 and above.\n",
      "  and should_run_async(code)\n"
     ]
    },
    {
     "name": "stdout",
     "output_type": "stream",
     "text": [
      "----------------------------------------------------------------------------------------------------------------------\n",
      "                                            Splitting the seaice data up                                             \n",
      "----------------------------------------------------------------------------------------------------------------------\n",
      "1 seasonal raw raw\n"
     ]
    },
    {
     "name": "stderr",
     "output_type": "stream",
     "text": [
      "C:\\Users\\Hamish\\Anaconda3\\envs\\Antarctica\\lib\\site-packages\\xarray\\core\\common.py:1123: FutureWarning: 'base' in .resample() and in Grouper() is deprecated.\n",
      "The new arguments that you should use are 'offset' or 'origin'.\n",
      "\n",
      ">>> df.resample(freq=\"3s\", base=2)\n",
      "\n",
      "becomes:\n",
      "\n",
      ">>> df.resample(freq=\"3s\", offset=\"2s\")\n",
      "\n",
      "  grouper = pd.Grouper(\n",
      "D:\\Github Desktop\\Antarctica-M.1\\modules\\dataprocessing.py:266: PendingDeprecationWarning: GroupBy.apply may be deprecated in the future. Using GroupBy.map is encouraged\n",
      "  new_data = new_data.groupby('time.month').apply(lambda group: group.sortby(group.time).interp(method='linear'))\n",
      "C:\\Users\\Hamish\\Anaconda3\\envs\\Antarctica\\lib\\site-packages\\xarray\\core\\common.py:1123: FutureWarning: 'base' in .resample() and in Grouper() is deprecated.\n",
      "The new arguments that you should use are 'offset' or 'origin'.\n",
      "\n",
      ">>> df.resample(freq=\"3s\", base=2)\n",
      "\n",
      "becomes:\n",
      "\n",
      ">>> df.resample(freq=\"3s\", offset=\"2s\")\n",
      "\n",
      "  grouper = pd.Grouper(\n"
     ]
    },
    {
     "name": "stdout",
     "output_type": "stream",
     "text": [
      "1 seasonal anomalous raw\n"
     ]
    },
    {
     "name": "stderr",
     "output_type": "stream",
     "text": [
      "C:\\Users\\Hamish\\Anaconda3\\envs\\Antarctica\\lib\\site-packages\\xarray\\core\\common.py:1123: FutureWarning: 'base' in .resample() and in Grouper() is deprecated.\n",
      "The new arguments that you should use are 'offset' or 'origin'.\n",
      "\n",
      ">>> df.resample(freq=\"3s\", base=2)\n",
      "\n",
      "becomes:\n",
      "\n",
      ">>> df.resample(freq=\"3s\", offset=\"2s\")\n",
      "\n",
      "  grouper = pd.Grouper(\n",
      "D:\\Github Desktop\\Antarctica-M.1\\modules\\dataprocessing.py:266: PendingDeprecationWarning: GroupBy.apply may be deprecated in the future. Using GroupBy.map is encouraged\n",
      "  new_data = new_data.groupby('time.month').apply(lambda group: group.sortby(group.time).interp(method='linear'))\n",
      "C:\\Users\\Hamish\\Anaconda3\\envs\\Antarctica\\lib\\site-packages\\xarray\\core\\common.py:1123: FutureWarning: 'base' in .resample() and in Grouper() is deprecated.\n",
      "The new arguments that you should use are 'offset' or 'origin'.\n",
      "\n",
      ">>> df.resample(freq=\"3s\", base=2)\n",
      "\n",
      "becomes:\n",
      "\n",
      ">>> df.resample(freq=\"3s\", offset=\"2s\")\n",
      "\n",
      "  grouper = pd.Grouper(\n"
     ]
    },
    {
     "name": "stdout",
     "output_type": "stream",
     "text": [
      "1 annual raw raw\n"
     ]
    },
    {
     "name": "stderr",
     "output_type": "stream",
     "text": [
      "C:\\Users\\Hamish\\Anaconda3\\envs\\Antarctica\\lib\\site-packages\\xarray\\core\\common.py:1123: FutureWarning: 'base' in .resample() and in Grouper() is deprecated.\n",
      "The new arguments that you should use are 'offset' or 'origin'.\n",
      "\n",
      ">>> df.resample(freq=\"3s\", base=2)\n",
      "\n",
      "becomes:\n",
      "\n",
      ">>> df.resample(freq=\"3s\", offset=\"2s\")\n",
      "\n",
      "  grouper = pd.Grouper(\n",
      "D:\\Github Desktop\\Antarctica-M.1\\modules\\dataprocessing.py:266: PendingDeprecationWarning: GroupBy.apply may be deprecated in the future. Using GroupBy.map is encouraged\n",
      "  new_data = new_data.groupby('time.month').apply(lambda group: group.sortby(group.time).interp(method='linear'))\n",
      "C:\\Users\\Hamish\\Anaconda3\\envs\\Antarctica\\lib\\site-packages\\xarray\\core\\common.py:1123: FutureWarning: 'base' in .resample() and in Grouper() is deprecated.\n",
      "The new arguments that you should use are 'offset' or 'origin'.\n",
      "\n",
      ">>> df.resample(freq=\"3s\", base=2)\n",
      "\n",
      "becomes:\n",
      "\n",
      ">>> df.resample(freq=\"3s\", offset=\"2s\")\n",
      "\n",
      "  grouper = pd.Grouper(\n"
     ]
    },
    {
     "name": "stdout",
     "output_type": "stream",
     "text": [
      "1 annual anomalous raw\n"
     ]
    },
    {
     "name": "stderr",
     "output_type": "stream",
     "text": [
      "C:\\Users\\Hamish\\Anaconda3\\envs\\Antarctica\\lib\\site-packages\\xarray\\core\\common.py:1123: FutureWarning: 'base' in .resample() and in Grouper() is deprecated.\n",
      "The new arguments that you should use are 'offset' or 'origin'.\n",
      "\n",
      ">>> df.resample(freq=\"3s\", base=2)\n",
      "\n",
      "becomes:\n",
      "\n",
      ">>> df.resample(freq=\"3s\", offset=\"2s\")\n",
      "\n",
      "  grouper = pd.Grouper(\n",
      "D:\\Github Desktop\\Antarctica-M.1\\modules\\dataprocessing.py:266: PendingDeprecationWarning: GroupBy.apply may be deprecated in the future. Using GroupBy.map is encouraged\n",
      "  new_data = new_data.groupby('time.month').apply(lambda group: group.sortby(group.time).interp(method='linear'))\n",
      "C:\\Users\\Hamish\\Anaconda3\\envs\\Antarctica\\lib\\site-packages\\xarray\\core\\common.py:1123: FutureWarning: 'base' in .resample() and in Grouper() is deprecated.\n",
      "The new arguments that you should use are 'offset' or 'origin'.\n",
      "\n",
      ">>> df.resample(freq=\"3s\", base=2)\n",
      "\n",
      "becomes:\n",
      "\n",
      ">>> df.resample(freq=\"3s\", offset=\"2s\")\n",
      "\n",
      "  grouper = pd.Grouper(\n"
     ]
    },
    {
     "name": "stdout",
     "output_type": "stream",
     "text": [
      "----------------------------------------------------------------------------------------------------------------------\n",
      "                                                        DONE                                                         \n",
      "----------------------------------------------------------------------------------------------------------------------\n"
     ]
    }
   ],
   "source": [
    "# Change resolution of data\n",
    "processor.decompose_and_save(resolutions            = resolutions,\n",
    "                             temporal_resolution    = temporal_resolution,\n",
    "                             temporal_decomposition = temporal_decomposition,\n",
    "                             detrend                = detrend)"
   ]
  },
  {
   "cell_type": "code",
   "execution_count": null,
   "metadata": {},
   "outputs": [
    {
     "name": "stderr",
     "output_type": "stream",
     "text": [
      "2020-10-07 23:02:42,400 INFO Welcome to the CDS\n",
      "2020-10-07 23:02:42,400 INFO Sending request to https://cds.climate.copernicus.eu/api/v2/resources/reanalysis-era5-pressure-levels-monthly-means\n",
      "2020-10-07 23:02:55,055 INFO Request is queued\n",
      "2020-10-07 23:02:56,326 INFO Request is running\n"
     ]
    }
   ],
   "source": [
    "import cdsapi\n",
    "\n",
    "c = cdsapi.Client()\n",
    "\n",
    "c.retrieve(\n",
    "    'reanalysis-era5-pressure-levels-monthly-means',\n",
    "    {\n",
    "        'format': 'netcdf',\n",
    "        'product_type': 'monthly_averaged_reanalysis',\n",
    "        'variable': [\n",
    "            'ozone_mass_mixing_ratio', \n",
    "            'temperature', 'geopotential',\n",
    "            'u_component_of_wind', 'v_component_of_wind',\n",
    "        ],\n",
    "        'pressure_level': [\n",
    "            '200', '500', '700',\n",
    "        ],\n",
    "        'year': [\n",
    "            '1979', '1980', '1981',\n",
    "            '1982', '1983', '1984',\n",
    "            '1985', '1986', '1987',\n",
    "            '1988', '1989', '1990',\n",
    "            '1991', '1992', '1993',\n",
    "            '1994', '1995', '1996',\n",
    "            '1997', '1998', '1999',\n",
    "            '2000', '2001', '2002',\n",
    "            '2003', '2004', '2005',\n",
    "            '2006', '2007', '2008',\n",
    "            '2009', '2010', '2011',\n",
    "            '2012', '2013', '2014',\n",
    "            '2015', '2016', '2017',\n",
    "            '2018', '2019', '2020',\n",
    "        ],\n",
    "        'month': [\n",
    "            '01', '02', '03',\n",
    "            '04', '05', '06',\n",
    "            '07', '08', '09',\n",
    "            '10', '11', '12',\n",
    "        ],\n",
    "        'time': '00:00',\n",
    "    },\n",
    "    'new_download.nc')"
   ]
  }
 ],
 "metadata": {
  "kernelspec": {
   "display_name": "Python 3",
   "language": "python",
   "name": "python3"
  },
  "language_info": {
   "codemirror_mode": {
    "name": "ipython",
    "version": 3
   },
   "file_extension": ".py",
   "mimetype": "text/x-python",
   "name": "python",
   "nbconvert_exporter": "python",
   "pygments_lexer": "ipython3",
   "version": "3.8.5"
  }
 },
 "nbformat": 4,
 "nbformat_minor": 4
}
