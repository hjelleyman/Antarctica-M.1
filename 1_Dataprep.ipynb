{
 "cells": [
  {
   "cell_type": "markdown",
   "metadata": {},
   "source": [
    "# Dataprep\n",
    "\n",
    "This notebook is primarily used to prep the data for further analysis. It also contains plots of the different timeseries being investigated."
   ]
  },
  {
   "cell_type": "code",
   "execution_count": 1,
   "metadata": {},
   "outputs": [],
   "source": [
    "# Loading modules\n",
    "# dataprocessing can be accessed with dp\n",
    "# plotting can be accessed with plot\n",
    "from modules import *\n",
    "\n",
    "import itertools\n",
    "\n",
    "%load_ext autoreload\n",
    "%autoreload 2"
   ]
  },
  {
   "cell_type": "markdown",
   "metadata": {},
   "source": [
    "Once we have everything loaded we can set the relevant parameters for processing"
   ]
  },
  {
   "cell_type": "code",
   "execution_count": 5,
   "metadata": {},
   "outputs": [
    {
     "name": "stderr",
     "output_type": "stream",
     "text": [
      "C:\\Users\\Hamish\\Anaconda3\\envs\\Antarctica\\lib\\site-packages\\ipykernel\\ipkernel.py:287: DeprecationWarning: `should_run_async` will not call `transform_cell` automatically in the future. Please pass the result to `transformed_cell` argument and any exception that happen during thetransform in `preprocessing_exc_tuple` in IPython 7.17 and above.\n",
      "  and should_run_async(code)\n"
     ]
    }
   ],
   "source": [
    "# What data to load\n",
    "load_seaice   = True\n",
    "load_indicies = False\n",
    "load_ERA5     = False\n",
    "\n",
    "# What indicies and variables\n",
    "indicies  = ['SAM','IPO', 'DMI', 'ENSO']\n",
    "variables = ['t2m']\n",
    "\n",
    "# Resolutions to save data as.\n",
    "resolutions = [1]\n",
    "n = 5\n",
    "\n",
    "# temporal averages\n",
    "temporal_resolution = ['monthly', 'seasonal', 'annual']\n",
    "temporal_resolution = ['seasonal', 'annual']\n",
    "\n",
    "# temporal_breakdown\n",
    "temporal_decomposition = ['raw', 'anomalous']\n",
    "\n",
    "# detrending\n",
    "detrend = ['raw', 'detrended']\n",
    "detrend = ['raw']\n",
    "\n",
    "seaice_source = 'nsidc'\n",
    "\n",
    "minyear = 1980\n",
    "maxyear = 2019"
   ]
  },
  {
   "cell_type": "markdown",
   "metadata": {},
   "source": [
    "Now we can do all the computations"
   ]
  },
  {
   "cell_type": "code",
   "execution_count": 6,
   "metadata": {},
   "outputs": [
    {
     "name": "stderr",
     "output_type": "stream",
     "text": [
      "C:\\Users\\Hamish\\Anaconda3\\envs\\Antarctica\\lib\\site-packages\\ipykernel\\ipkernel.py:287: DeprecationWarning: `should_run_async` will not call `transform_cell` automatically in the future. Please pass the result to `transformed_cell` argument and any exception that happen during thetransform in `preprocessing_exc_tuple` in IPython 7.17 and above.\n",
      "  and should_run_async(code)\n"
     ]
    },
    {
     "name": "stdout",
     "output_type": "stream",
     "text": [
      "----------------------------------------------------------------------------------------------------------------------\n",
      "                                             Generating a data processor                                             \n",
      "----------------------------------------------------------------------------------------------------------------------\n",
      "----------------------------------------------------------------------------------------------------------------------\n",
      "                                           Loading seaice data from NSIDC                                            \n",
      "----------------------------------------------------------------------------------------------------------------------\n"
     ]
    }
   ],
   "source": [
    "# Generate a processor object\n",
    "processor = dp.dataprocessor(rawdatafolder = 'data/', processeddatafolder = 'processed_data/')\n",
    "\n",
    "# Load in datasets\n",
    "processor.load_data(load_seaice   = load_seaice,\n",
    "                    load_indicies = load_indicies,\n",
    "                    load_ERA5     = load_ERA5,\n",
    "                    indicies      = indicies,\n",
    "                    variables     = variables)"
   ]
  },
  {
   "cell_type": "code",
   "execution_count": 4,
   "metadata": {},
   "outputs": [
    {
     "name": "stderr",
     "output_type": "stream",
     "text": [
      "C:\\Users\\Hamish\\Anaconda3\\envs\\Antarctica\\lib\\site-packages\\ipykernel\\ipkernel.py:287: DeprecationWarning: `should_run_async` will not call `transform_cell` automatically in the future. Please pass the result to `transformed_cell` argument and any exception that happen during thetransform in `preprocessing_exc_tuple` in IPython 7.17 and above.\n",
      "  and should_run_async(code)\n"
     ]
    },
    {
     "name": "stdout",
     "output_type": "stream",
     "text": [
      "----------------------------------------------------------------------------------------------------------------------\n",
      "                                            Splitting the seaice data up                                             \n",
      "----------------------------------------------------------------------------------------------------------------------\n",
      "1 seasonal raw raw\n"
     ]
    },
    {
     "name": "stderr",
     "output_type": "stream",
     "text": [
      "C:\\Users\\Hamish\\Anaconda3\\envs\\Antarctica\\lib\\site-packages\\xarray\\core\\common.py:1123: FutureWarning: 'base' in .resample() and in Grouper() is deprecated.\n",
      "The new arguments that you should use are 'offset' or 'origin'.\n",
      "\n",
      ">>> df.resample(freq=\"3s\", base=2)\n",
      "\n",
      "becomes:\n",
      "\n",
      ">>> df.resample(freq=\"3s\", offset=\"2s\")\n",
      "\n",
      "  grouper = pd.Grouper(\n",
      "D:\\Github Desktop\\Antarctica-M.1\\modules\\dataprocessing.py:266: PendingDeprecationWarning: GroupBy.apply may be deprecated in the future. Using GroupBy.map is encouraged\n",
      "  new_data = new_data.groupby('time.month').apply(lambda group: group.sortby(group.time).interp(method='linear'))\n",
      "C:\\Users\\Hamish\\Anaconda3\\envs\\Antarctica\\lib\\site-packages\\xarray\\core\\common.py:1123: FutureWarning: 'base' in .resample() and in Grouper() is deprecated.\n",
      "The new arguments that you should use are 'offset' or 'origin'.\n",
      "\n",
      ">>> df.resample(freq=\"3s\", base=2)\n",
      "\n",
      "becomes:\n",
      "\n",
      ">>> df.resample(freq=\"3s\", offset=\"2s\")\n",
      "\n",
      "  grouper = pd.Grouper(\n"
     ]
    },
    {
     "name": "stdout",
     "output_type": "stream",
     "text": [
      "1 seasonal anomalous raw\n"
     ]
    },
    {
     "name": "stderr",
     "output_type": "stream",
     "text": [
      "C:\\Users\\Hamish\\Anaconda3\\envs\\Antarctica\\lib\\site-packages\\xarray\\core\\common.py:1123: FutureWarning: 'base' in .resample() and in Grouper() is deprecated.\n",
      "The new arguments that you should use are 'offset' or 'origin'.\n",
      "\n",
      ">>> df.resample(freq=\"3s\", base=2)\n",
      "\n",
      "becomes:\n",
      "\n",
      ">>> df.resample(freq=\"3s\", offset=\"2s\")\n",
      "\n",
      "  grouper = pd.Grouper(\n",
      "D:\\Github Desktop\\Antarctica-M.1\\modules\\dataprocessing.py:266: PendingDeprecationWarning: GroupBy.apply may be deprecated in the future. Using GroupBy.map is encouraged\n",
      "  new_data = new_data.groupby('time.month').apply(lambda group: group.sortby(group.time).interp(method='linear'))\n",
      "C:\\Users\\Hamish\\Anaconda3\\envs\\Antarctica\\lib\\site-packages\\xarray\\core\\common.py:1123: FutureWarning: 'base' in .resample() and in Grouper() is deprecated.\n",
      "The new arguments that you should use are 'offset' or 'origin'.\n",
      "\n",
      ">>> df.resample(freq=\"3s\", base=2)\n",
      "\n",
      "becomes:\n",
      "\n",
      ">>> df.resample(freq=\"3s\", offset=\"2s\")\n",
      "\n",
      "  grouper = pd.Grouper(\n"
     ]
    },
    {
     "name": "stdout",
     "output_type": "stream",
     "text": [
      "1 annual raw raw\n"
     ]
    },
    {
     "name": "stderr",
     "output_type": "stream",
     "text": [
      "C:\\Users\\Hamish\\Anaconda3\\envs\\Antarctica\\lib\\site-packages\\xarray\\core\\common.py:1123: FutureWarning: 'base' in .resample() and in Grouper() is deprecated.\n",
      "The new arguments that you should use are 'offset' or 'origin'.\n",
      "\n",
      ">>> df.resample(freq=\"3s\", base=2)\n",
      "\n",
      "becomes:\n",
      "\n",
      ">>> df.resample(freq=\"3s\", offset=\"2s\")\n",
      "\n",
      "  grouper = pd.Grouper(\n",
      "D:\\Github Desktop\\Antarctica-M.1\\modules\\dataprocessing.py:266: PendingDeprecationWarning: GroupBy.apply may be deprecated in the future. Using GroupBy.map is encouraged\n",
      "  new_data = new_data.groupby('time.month').apply(lambda group: group.sortby(group.time).interp(method='linear'))\n",
      "C:\\Users\\Hamish\\Anaconda3\\envs\\Antarctica\\lib\\site-packages\\xarray\\core\\common.py:1123: FutureWarning: 'base' in .resample() and in Grouper() is deprecated.\n",
      "The new arguments that you should use are 'offset' or 'origin'.\n",
      "\n",
      ">>> df.resample(freq=\"3s\", base=2)\n",
      "\n",
      "becomes:\n",
      "\n",
      ">>> df.resample(freq=\"3s\", offset=\"2s\")\n",
      "\n",
      "  grouper = pd.Grouper(\n"
     ]
    },
    {
     "name": "stdout",
     "output_type": "stream",
     "text": [
      "1 annual anomalous raw\n"
     ]
    },
    {
     "name": "stderr",
     "output_type": "stream",
     "text": [
      "C:\\Users\\Hamish\\Anaconda3\\envs\\Antarctica\\lib\\site-packages\\xarray\\core\\common.py:1123: FutureWarning: 'base' in .resample() and in Grouper() is deprecated.\n",
      "The new arguments that you should use are 'offset' or 'origin'.\n",
      "\n",
      ">>> df.resample(freq=\"3s\", base=2)\n",
      "\n",
      "becomes:\n",
      "\n",
      ">>> df.resample(freq=\"3s\", offset=\"2s\")\n",
      "\n",
      "  grouper = pd.Grouper(\n",
      "D:\\Github Desktop\\Antarctica-M.1\\modules\\dataprocessing.py:266: PendingDeprecationWarning: GroupBy.apply may be deprecated in the future. Using GroupBy.map is encouraged\n",
      "  new_data = new_data.groupby('time.month').apply(lambda group: group.sortby(group.time).interp(method='linear'))\n",
      "C:\\Users\\Hamish\\Anaconda3\\envs\\Antarctica\\lib\\site-packages\\xarray\\core\\common.py:1123: FutureWarning: 'base' in .resample() and in Grouper() is deprecated.\n",
      "The new arguments that you should use are 'offset' or 'origin'.\n",
      "\n",
      ">>> df.resample(freq=\"3s\", base=2)\n",
      "\n",
      "becomes:\n",
      "\n",
      ">>> df.resample(freq=\"3s\", offset=\"2s\")\n",
      "\n",
      "  grouper = pd.Grouper(\n"
     ]
    },
    {
     "name": "stdout",
     "output_type": "stream",
     "text": [
      "----------------------------------------------------------------------------------------------------------------------\n",
      "                                                        DONE                                                         \n",
      "----------------------------------------------------------------------------------------------------------------------\n"
     ]
    }
   ],
   "source": [
    "# Change resolution of data\n",
    "processor.decompose_and_save(resolutions            = resolutions,\n",
    "                             temporal_resolution    = temporal_resolution,\n",
    "                             temporal_decomposition = temporal_decomposition,\n",
    "                             detrend                = detrend)"
   ]
  },
  {
   "cell_type": "code",
   "execution_count": 4,
   "metadata": {},
   "outputs": [
    {
     "name": "stderr",
     "output_type": "stream",
     "text": [
      "2020-10-08 13:53:24,552 INFO Welcome to the CDS\n",
      "2020-10-08 13:53:24,552 INFO Sending request to https://cds.climate.copernicus.eu/api/v2/resources/reanalysis-era5-pressure-levels-monthly-means\n",
      "2020-10-08 13:53:25,092 INFO Request is completed\n",
      "2020-10-08 13:53:25,092 INFO Downloading http://136.156.132.235/cache-compute-0006/cache/data3/adaptor.mars.internal-1602041699.3868704-12850-37-313e6a72-434a-472a-b873-c0a632a3c420.nc to new_data/ozone_mass_mixing_ratio.nc (5.8G)\n",
      "                                                                                                                                                                                                                                            \r"
     ]
    },
    {
     "name": "stdout",
     "output_type": "stream",
     "text": [
      "ozone_mass_mixing_ratio\n"
     ]
    },
    {
     "name": "stderr",
     "output_type": "stream",
     "text": [
      "2020-10-08 14:08:17,813 INFO Welcome to the CDS\n",
      "2020-10-08 14:08:17,813 INFO Sending request to https://cds.climate.copernicus.eu/api/v2/resources/reanalysis-era5-pressure-levels-monthly-means\n",
      "2020-10-08 14:08:19,517 INFO Downloading http://136.156.132.105/cache-compute-0000/cache/data5/adaptor.mars.internal-1602037395.6532273-13877-38-1224aa2c-6329-44a1-86b8-a77044e88ded.nc to new_data/temperature.nc (5.8G)\n",
      "2020-10-08 14:25:46,740 INFO Download rate 5.7M/s                                                                                                                                                                                           \n",
      "2020-10-08 14:25:48,905 INFO Welcome to the CDS\n",
      "2020-10-08 14:25:48,906 INFO Sending request to https://cds.climate.copernicus.eu/api/v2/resources/reanalysis-era5-pressure-levels-monthly-means\n",
      "2020-10-08 14:25:49,451 INFO Downloading http://136.156.132.198/cache-compute-0003/cache/data3/adaptor.mars.internal-1602031809.7719233-8626-1-5911ebe8-5b55-47bc-8f7c-9877e99db8c3.nc to new_data/geopotential.nc (5.8G)\n",
      "2020-10-08 14:49:47,730 INFO Download rate 4.1M/s                                                                                                                                                                                           \n",
      "2020-10-08 14:49:49,366 INFO Welcome to the CDS\n",
      "2020-10-08 14:49:49,367 INFO Sending request to https://cds.climate.copernicus.eu/api/v2/resources/reanalysis-era5-pressure-levels-monthly-means\n",
      "2020-10-08 14:49:49,803 INFO Downloading http://136.156.133.32/cache-compute-0009/cache/data8/adaptor.mars.internal-1602060751.8818004-16191-16-1782c8c9-7d1d-41ba-b68d-91936b6a6091.nc to new_data/u_component_of_wind.nc (5.8G)\n",
      "2020-10-08 15:12:05,924 INFO Download rate 4.5M/s                                                                                                                                                                                           \n",
      "2020-10-08 15:12:07,813 INFO Welcome to the CDS\n",
      "2020-10-08 15:12:07,814 INFO Sending request to https://cds.climate.copernicus.eu/api/v2/resources/reanalysis-era5-pressure-levels-monthly-means\n",
      "2020-10-08 15:12:08,288 INFO Request is queued\n",
      "2020-10-08 15:12:09,581 INFO Request is running\n",
      "2020-10-08 15:18:31,349 INFO Request is completed\n",
      "2020-10-08 15:18:31,350 INFO Downloading http://136.156.132.201/cache-compute-0004/cache/data5/adaptor.mars.internal-1602123128.423387-8932-24-146d6ed3-4a45-43d5-b1d5-e3e279ed87c3.nc to new_data/v_component_of_wind.nc (5.8G)\n",
      "2020-10-08 15:34:13,776 INFO Download rate 6.3M/s                                                                                                                                                                                           \n"
     ]
    }
   ],
   "source": [
    "import cdsapi\n",
    "\n",
    "c = cdsapi.Client()\n",
    "def download(variable):\n",
    "    c.retrieve(\n",
    "        'reanalysis-era5-pressure-levels-monthly-means',\n",
    "        {\n",
    "            'format': 'netcdf',\n",
    "            'product_type': 'monthly_averaged_reanalysis',\n",
    "            'variable': [\n",
    "    #             'ozone_mass_mixing_ratio', \n",
    "#                 'temperature', \n",
    "    #             'geopotential',\n",
    "    #             'u_component_of_wind',\n",
    "    #             'v_component_of_wind',\n",
    "                variable\n",
    "            ],\n",
    "            'pressure_level': [\n",
    "                '200', '500', '700',\n",
    "            ],\n",
    "            'year': [\n",
    "                '1979', '1980', '1981',\n",
    "                '1982', '1983', '1984',\n",
    "                '1985', '1986', '1987',\n",
    "                '1988', '1989', '1990',\n",
    "                '1991', '1992', '1993',\n",
    "                '1994', '1995', '1996',\n",
    "                '1997', '1998', '1999',\n",
    "                '2000', '2001', '2002',\n",
    "                '2003', '2004', '2005',\n",
    "                '2006', '2007', '2008',\n",
    "                '2009', '2010', '2011',\n",
    "                '2012', '2013', '2014',\n",
    "                '2015', '2016', '2017',\n",
    "                '2018', '2019', '2020',\n",
    "            ],\n",
    "            'month': [\n",
    "                '01', '02', '03',\n",
    "                '04', '05', '06',\n",
    "                '07', '08', '09',\n",
    "                '10', '11', '12',\n",
    "            ],\n",
    "            'time': '00:00',\n",
    "        },\n",
    "        f'new_data/{variable}.nc')\n",
    "for variable in [\n",
    "                'ozone_mass_mixing_ratio', \n",
    "                'temperature', \n",
    "                'geopotential',\n",
    "                'u_component_of_wind',\n",
    "                'v_component_of_wind',]:\n",
    "    try:\n",
    "        download(variable)\n",
    "    except:\n",
    "        print(variable)"
   ]
  },
  {
   "cell_type": "code",
   "execution_count": 5,
   "metadata": {},
   "outputs": [
    {
     "name": "stderr",
     "output_type": "stream",
     "text": [
      "2020-10-08 15:34:15,497 INFO Welcome to the CDS\n",
      "2020-10-08 15:34:15,498 INFO Sending request to https://cds.climate.copernicus.eu/api/v2/resources/reanalysis-era5-single-levels-monthly-means\n",
      "2020-10-08 15:34:16,064 INFO Request is queued\n",
      "2020-10-08 15:34:17,357 INFO Request is running\n",
      "2020-10-08 15:37:10,296 INFO Request is completed\n",
      "2020-10-08 15:37:10,297 INFO Downloading http://136.156.132.198/cache-compute-0003/cache/data5/adaptor.mars.internal-1602124456.1818347-13937-1-1583d736-3450-4612-8a02-0bc1f82f5ddb.nc to new_data/10m_u_component_of_wind.nc (1.9G)\n",
      "2020-10-08 15:42:54,007 INFO Download rate 5.8M/s                                                                                                                                                                                           \n",
      "2020-10-08 15:42:55,501 INFO Welcome to the CDS\n",
      "2020-10-08 15:42:55,501 INFO Sending request to https://cds.climate.copernicus.eu/api/v2/resources/reanalysis-era5-single-levels-monthly-means\n",
      "2020-10-08 15:42:56,345 INFO Request is queued\n",
      "2020-10-08 15:42:57,638 INFO Request is running\n",
      "2020-10-08 15:45:50,570 INFO Request is completed\n",
      "2020-10-08 15:45:50,571 INFO Downloading http://136.156.133.46/cache-compute-0015/cache/data0/adaptor.mars.internal-1602124976.5597725-25682-21-ad4a1ae5-f6c1-4920-ab48-ee90f145c4da.nc to new_data/10m_v_component_of_wind.nc (1.9G)\n",
      "2020-10-08 15:54:35,797 INFO Download rate 3.8M/s                                                                                                                                                                                           \n",
      "2020-10-08 15:54:37,640 INFO Welcome to the CDS\n",
      "2020-10-08 15:54:37,641 INFO Sending request to https://cds.climate.copernicus.eu/api/v2/resources/reanalysis-era5-single-levels-monthly-means\n",
      "2020-10-08 15:54:38,133 INFO Request is queued\n",
      "2020-10-08 15:54:39,427 INFO Request is running\n",
      "2020-10-08 15:57:32,362 INFO Request is completed\n",
      "2020-10-08 15:57:32,363 INFO Downloading http://136.156.132.153/cache-compute-0002/cache/data9/adaptor.mars.internal-1602125678.1702182-11865-15-08afbb7c-ca2c-4956-be89-2f8aa3e7f253.nc to new_data/10m_wind_speed.nc (1.9G)\n",
      "2020-10-08 16:04:43,566 INFO Download rate 4.6M/s                                                                                                                                                                                           \n",
      "2020-10-08 16:04:45,919 INFO Welcome to the CDS\n",
      "2020-10-08 16:04:45,920 INFO Sending request to https://cds.climate.copernicus.eu/api/v2/resources/reanalysis-era5-single-levels-monthly-means\n",
      "2020-10-08 16:04:46,448 INFO Request is queued\n",
      "2020-10-08 16:04:47,742 INFO Request is running\n",
      "2020-10-08 16:07:40,675 INFO Request is completed\n",
      "2020-10-08 16:07:40,676 INFO Downloading http://136.156.132.201/cache-compute-0004/cache/data8/adaptor.mars.internal-1602126286.5536978-7956-5-a4cff8f3-6fb0-47f0-ae37-54e9d95ac947.nc to new_data/2m_temperature.nc (1.9G)\n",
      "2020-10-08 16:13:09,089 INFO Download rate 6M/s                                                                                                                                                                                             \n",
      "2020-10-08 16:13:11,418 INFO Welcome to the CDS\n",
      "2020-10-08 16:13:11,419 INFO Sending request to https://cds.climate.copernicus.eu/api/v2/resources/reanalysis-era5-single-levels-monthly-means\n",
      "2020-10-08 16:13:13,069 INFO Request is queued\n",
      "2020-10-08 16:13:14,363 INFO Request is running\n",
      "2020-10-08 16:16:07,286 INFO Request is completed\n",
      "2020-10-08 16:16:07,287 INFO Downloading http://136.156.133.25/cache-compute-0008/cache/data6/adaptor.mars.internal-1602126793.7957115-4265-3-fe5926a6-4ca0-4417-a037-03b44808cd55.nc to new_data/sea_surface_temperature.nc (1.9G)\n",
      "2020-10-08 16:21:11,339 INFO Download rate 6.5M/s                                                                                                                                                                                           \n",
      "2020-10-08 16:21:15,605 INFO Welcome to the CDS\n",
      "2020-10-08 16:21:15,606 INFO Sending request to https://cds.climate.copernicus.eu/api/v2/resources/reanalysis-era5-single-levels-monthly-means\n",
      "2020-10-08 16:21:16,185 INFO Request is queued\n",
      "2020-10-08 16:21:17,581 INFO Request is running\n",
      "2020-10-08 16:24:15,250 INFO Request is completed\n",
      "2020-10-08 16:24:15,251 INFO Downloading http://136.156.132.198/cache-compute-0003/cache/data8/adaptor.mars.internal-1602127276.7109225-10436-18-a1f36758-eb73-422e-b3de-b6606baac972.nc to new_data/skin_temperature.nc (1.9G)\n",
      "2020-10-08 16:30:44,229 INFO Download rate 5.1M/s                                                                                                                                                                                           \n",
      "2020-10-08 16:30:47,164 INFO Welcome to the CDS\n",
      "2020-10-08 16:30:47,165 INFO Sending request to https://cds.climate.copernicus.eu/api/v2/resources/reanalysis-era5-single-levels-monthly-means\n",
      "2020-10-08 16:30:47,970 INFO Request is queued\n",
      "2020-10-08 16:30:51,054 INFO Request is running\n",
      "2020-10-08 16:35:10,861 INFO Request is completed\n",
      "2020-10-08 16:35:10,862 INFO Downloading http://136.156.132.210/cache-compute-0005/cache/data7/adaptor.mars.internal-1602127849.2929013-11384-8-72341a22-7421-4abc-8086-7b7c35caf894.nc to new_data/surface_net_solar_radiation.nc (1.9G)\n",
      "2020-10-08 16:42:58,976 INFO Download rate 4.2M/s                                                                                                                                                                                           \n",
      "2020-10-08 16:43:00,758 INFO Welcome to the CDS\n",
      "2020-10-08 16:43:00,759 INFO Sending request to https://cds.climate.copernicus.eu/api/v2/resources/reanalysis-era5-single-levels-monthly-means\n",
      "2020-10-08 16:43:01,208 INFO Request is queued\n",
      "2020-10-08 16:43:02,501 INFO Request is running\n",
      "2020-10-08 16:47:24,064 INFO Request is completed\n",
      "2020-10-08 16:47:24,065 INFO Downloading http://136.156.133.36/cache-compute-0010/cache/data6/adaptor.mars.internal-1602128581.380469-11208-3-89331d14-2f57-4f23-8ee3-11bde746e11b.nc to new_data/surface_pressure.nc (1.9G)\n",
      "2020-10-08 16:53:35,987 INFO Download rate 5.3M/s                                                                                                                                                                                           \n",
      "2020-10-08 16:53:38,185 INFO Welcome to the CDS\n",
      "2020-10-08 16:53:38,186 INFO Sending request to https://cds.climate.copernicus.eu/api/v2/resources/reanalysis-era5-single-levels-monthly-means\n",
      "2020-10-08 16:53:38,577 INFO Request is queued\n",
      "2020-10-08 16:53:39,869 INFO Request is running\n",
      "2020-10-08 16:56:32,786 INFO Request is completed\n",
      "2020-10-08 16:56:32,787 INFO Downloading http://136.156.133.32/cache-compute-0009/cache/data4/adaptor.mars.internal-1602129218.5783222-13354-25-e57f8270-ff8a-49ec-b384-ff56fbaffce1.nc to new_data/surface_solar_radiation_downwards.nc (1.9G)\n",
      "2020-10-08 17:03:09,510 INFO Download rate 5M/s                                                                                                                                                                                             \n"
     ]
    }
   ],
   "source": [
    "import cdsapi\n",
    "\n",
    "c = cdsapi.Client()\n",
    "def download(variable):\n",
    "    c.retrieve(\n",
    "        'reanalysis-era5-single-levels-monthly-means',\n",
    "        {\n",
    "            'format': 'netcdf',\n",
    "            'product_type': 'monthly_averaged_reanalysis',\n",
    "            'variable': [variable],\n",
    "            'year': [\n",
    "                '1979', '1980', '1981',\n",
    "                '1982', '1983', '1984',\n",
    "                '1985', '1986', '1987',\n",
    "                '1988', '1989', '1990',\n",
    "                '1991', '1992', '1993',\n",
    "                '1994', '1995', '1996',\n",
    "                '1997', '1998', '1999',\n",
    "                '2000', '2001', '2002',\n",
    "                '2003', '2004', '2005',\n",
    "                '2006', '2007', '2008',\n",
    "                '2009', '2010', '2011',\n",
    "                '2012', '2013', '2014',\n",
    "                '2015', '2016', '2017',\n",
    "                '2018', '2019', '2020',\n",
    "            ],\n",
    "            'month': [\n",
    "                '01', '02', '03',\n",
    "                '04', '05', '06',\n",
    "                '07', '08', '09',\n",
    "                '10', '11', '12',\n",
    "            ],\n",
    "            'time': '00:00',\n",
    "        },\n",
    "        f'new_data/{variable}.nc')\n",
    "for variable in [\n",
    "                '10m_u_component_of_wind', '10m_v_component_of_wind', '10m_wind_speed',\n",
    "                '2m_temperature', 'sea_surface_temperature', 'skin_temperature',\n",
    "                'surface_net_solar_radiation', 'surface_pressure', 'surface_solar_radiation_downwards',\n",
    "            ]:\n",
    "    try:\n",
    "        download(variable)\n",
    "    except:\n",
    "        print(variable)"
   ]
  }
 ],
 "metadata": {
  "kernelspec": {
   "display_name": "Python 3",
   "language": "python",
   "name": "python3"
  },
  "language_info": {
   "codemirror_mode": {
    "name": "ipython",
    "version": 3
   },
   "file_extension": ".py",
   "mimetype": "text/x-python",
   "name": "python",
   "nbconvert_exporter": "python",
   "pygments_lexer": "ipython3",
   "version": "3.8.5"
  }
 },
 "nbformat": 4,
 "nbformat_minor": 4
}
