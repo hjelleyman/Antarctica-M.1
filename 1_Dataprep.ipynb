{
 "cells": [
  {
   "cell_type": "markdown",
   "metadata": {},
   "source": [
    "# Dataprep\n",
    "\n",
    "This notebook is primarily used to prep the data for further analysis. It also contains plots of the different timeseries being investigated."
   ]
  },
  {
   "cell_type": "code",
   "execution_count": 1,
   "metadata": {},
   "outputs": [],
   "source": [
    "# Loading modules\n",
    "# dataprocessing can be accessed with dp\n",
    "# plotting can be accessed with plot\n",
    "from modules import *\n",
    "\n",
    "import itertools\n",
    "\n",
    "%load_ext autoreload\n",
    "%autoreload 2"
   ]
  },
  {
   "cell_type": "markdown",
   "metadata": {},
   "source": [
    "Once we have everything loaded we can set the relevant parameters for processing"
   ]
  },
  {
   "cell_type": "code",
   "execution_count": 5,
   "metadata": {},
   "outputs": [
    {
     "name": "stderr",
     "output_type": "stream",
     "text": [
      "C:\\Users\\Hamish\\Anaconda3\\envs\\Antarctica\\lib\\site-packages\\ipykernel\\ipkernel.py:287: DeprecationWarning: `should_run_async` will not call `transform_cell` automatically in the future. Please pass the result to `transformed_cell` argument and any exception that happen during thetransform in `preprocessing_exc_tuple` in IPython 7.17 and above.\n",
      "  and should_run_async(code)\n"
     ]
    }
   ],
   "source": [
    "# What data to load\n",
    "load_seaice   = True\n",
    "load_indicies = False\n",
    "load_ERA5     = False\n",
    "\n",
    "# What indicies and variables\n",
    "indicies  = ['SAM','IPO', 'DMI', 'ENSO']\n",
    "variables = ['t2m']\n",
    "\n",
    "# Resolutions to save data as.\n",
    "resolutions = [1]\n",
    "n = 5\n",
    "\n",
    "# temporal averages\n",
    "temporal_resolution = ['monthly', 'seasonal', 'annual']\n",
    "temporal_resolution = ['seasonal', 'annual']\n",
    "\n",
    "# temporal_breakdown\n",
    "temporal_decomposition = ['raw', 'anomalous']\n",
    "\n",
    "# detrending\n",
    "detrend = ['raw', 'detrended']\n",
    "detrend = ['raw']\n",
    "\n",
    "seaice_source = 'nsidc'\n",
    "\n",
    "minyear = 1980\n",
    "maxyear = 2019"
   ]
  },
  {
   "cell_type": "markdown",
   "metadata": {},
   "source": [
    "Now we can do all the computations"
   ]
  },
  {
   "cell_type": "code",
   "execution_count": 6,
   "metadata": {},
   "outputs": [
    {
     "name": "stderr",
     "output_type": "stream",
     "text": [
      "C:\\Users\\Hamish\\Anaconda3\\envs\\Antarctica\\lib\\site-packages\\ipykernel\\ipkernel.py:287: DeprecationWarning: `should_run_async` will not call `transform_cell` automatically in the future. Please pass the result to `transformed_cell` argument and any exception that happen during thetransform in `preprocessing_exc_tuple` in IPython 7.17 and above.\n",
      "  and should_run_async(code)\n"
     ]
    },
    {
     "name": "stdout",
     "output_type": "stream",
     "text": [
      "----------------------------------------------------------------------------------------------------------------------\n",
      "                                             Generating a data processor                                             \n",
      "----------------------------------------------------------------------------------------------------------------------\n",
      "----------------------------------------------------------------------------------------------------------------------\n",
      "                                           Loading seaice data from NSIDC                                            \n",
      "----------------------------------------------------------------------------------------------------------------------\n"
     ]
    }
   ],
   "source": [
    "# Generate a processor object\n",
    "processor = dp.dataprocessor(rawdatafolder = 'data/', processeddatafolder = 'processed_data/')\n",
    "\n",
    "# Load in datasets\n",
    "processor.load_data(load_seaice   = load_seaice,\n",
    "                    load_indicies = load_indicies,\n",
    "                    load_ERA5     = load_ERA5,\n",
    "                    indicies      = indicies,\n",
    "                    variables     = variables)"
   ]
  },
  {
   "cell_type": "code",
   "execution_count": 4,
   "metadata": {},
   "outputs": [
    {
     "name": "stderr",
     "output_type": "stream",
     "text": [
      "C:\\Users\\Hamish\\Anaconda3\\envs\\Antarctica\\lib\\site-packages\\ipykernel\\ipkernel.py:287: DeprecationWarning: `should_run_async` will not call `transform_cell` automatically in the future. Please pass the result to `transformed_cell` argument and any exception that happen during thetransform in `preprocessing_exc_tuple` in IPython 7.17 and above.\n",
      "  and should_run_async(code)\n"
     ]
    },
    {
     "name": "stdout",
     "output_type": "stream",
     "text": [
      "----------------------------------------------------------------------------------------------------------------------\n",
      "                                            Splitting the seaice data up                                             \n",
      "----------------------------------------------------------------------------------------------------------------------\n",
      "1 seasonal raw raw\n"
     ]
    },
    {
     "name": "stderr",
     "output_type": "stream",
     "text": [
      "C:\\Users\\Hamish\\Anaconda3\\envs\\Antarctica\\lib\\site-packages\\xarray\\core\\common.py:1123: FutureWarning: 'base' in .resample() and in Grouper() is deprecated.\n",
      "The new arguments that you should use are 'offset' or 'origin'.\n",
      "\n",
      ">>> df.resample(freq=\"3s\", base=2)\n",
      "\n",
      "becomes:\n",
      "\n",
      ">>> df.resample(freq=\"3s\", offset=\"2s\")\n",
      "\n",
      "  grouper = pd.Grouper(\n",
      "D:\\Github Desktop\\Antarctica-M.1\\modules\\dataprocessing.py:266: PendingDeprecationWarning: GroupBy.apply may be deprecated in the future. Using GroupBy.map is encouraged\n",
      "  new_data = new_data.groupby('time.month').apply(lambda group: group.sortby(group.time).interp(method='linear'))\n",
      "C:\\Users\\Hamish\\Anaconda3\\envs\\Antarctica\\lib\\site-packages\\xarray\\core\\common.py:1123: FutureWarning: 'base' in .resample() and in Grouper() is deprecated.\n",
      "The new arguments that you should use are 'offset' or 'origin'.\n",
      "\n",
      ">>> df.resample(freq=\"3s\", base=2)\n",
      "\n",
      "becomes:\n",
      "\n",
      ">>> df.resample(freq=\"3s\", offset=\"2s\")\n",
      "\n",
      "  grouper = pd.Grouper(\n"
     ]
    },
    {
     "name": "stdout",
     "output_type": "stream",
     "text": [
      "1 seasonal anomalous raw\n"
     ]
    },
    {
     "name": "stderr",
     "output_type": "stream",
     "text": [
      "C:\\Users\\Hamish\\Anaconda3\\envs\\Antarctica\\lib\\site-packages\\xarray\\core\\common.py:1123: FutureWarning: 'base' in .resample() and in Grouper() is deprecated.\n",
      "The new arguments that you should use are 'offset' or 'origin'.\n",
      "\n",
      ">>> df.resample(freq=\"3s\", base=2)\n",
      "\n",
      "becomes:\n",
      "\n",
      ">>> df.resample(freq=\"3s\", offset=\"2s\")\n",
      "\n",
      "  grouper = pd.Grouper(\n",
      "D:\\Github Desktop\\Antarctica-M.1\\modules\\dataprocessing.py:266: PendingDeprecationWarning: GroupBy.apply may be deprecated in the future. Using GroupBy.map is encouraged\n",
      "  new_data = new_data.groupby('time.month').apply(lambda group: group.sortby(group.time).interp(method='linear'))\n",
      "C:\\Users\\Hamish\\Anaconda3\\envs\\Antarctica\\lib\\site-packages\\xarray\\core\\common.py:1123: FutureWarning: 'base' in .resample() and in Grouper() is deprecated.\n",
      "The new arguments that you should use are 'offset' or 'origin'.\n",
      "\n",
      ">>> df.resample(freq=\"3s\", base=2)\n",
      "\n",
      "becomes:\n",
      "\n",
      ">>> df.resample(freq=\"3s\", offset=\"2s\")\n",
      "\n",
      "  grouper = pd.Grouper(\n"
     ]
    },
    {
     "name": "stdout",
     "output_type": "stream",
     "text": [
      "1 annual raw raw\n"
     ]
    },
    {
     "name": "stderr",
     "output_type": "stream",
     "text": [
      "C:\\Users\\Hamish\\Anaconda3\\envs\\Antarctica\\lib\\site-packages\\xarray\\core\\common.py:1123: FutureWarning: 'base' in .resample() and in Grouper() is deprecated.\n",
      "The new arguments that you should use are 'offset' or 'origin'.\n",
      "\n",
      ">>> df.resample(freq=\"3s\", base=2)\n",
      "\n",
      "becomes:\n",
      "\n",
      ">>> df.resample(freq=\"3s\", offset=\"2s\")\n",
      "\n",
      "  grouper = pd.Grouper(\n",
      "D:\\Github Desktop\\Antarctica-M.1\\modules\\dataprocessing.py:266: PendingDeprecationWarning: GroupBy.apply may be deprecated in the future. Using GroupBy.map is encouraged\n",
      "  new_data = new_data.groupby('time.month').apply(lambda group: group.sortby(group.time).interp(method='linear'))\n",
      "C:\\Users\\Hamish\\Anaconda3\\envs\\Antarctica\\lib\\site-packages\\xarray\\core\\common.py:1123: FutureWarning: 'base' in .resample() and in Grouper() is deprecated.\n",
      "The new arguments that you should use are 'offset' or 'origin'.\n",
      "\n",
      ">>> df.resample(freq=\"3s\", base=2)\n",
      "\n",
      "becomes:\n",
      "\n",
      ">>> df.resample(freq=\"3s\", offset=\"2s\")\n",
      "\n",
      "  grouper = pd.Grouper(\n"
     ]
    },
    {
     "name": "stdout",
     "output_type": "stream",
     "text": [
      "1 annual anomalous raw\n"
     ]
    },
    {
     "name": "stderr",
     "output_type": "stream",
     "text": [
      "C:\\Users\\Hamish\\Anaconda3\\envs\\Antarctica\\lib\\site-packages\\xarray\\core\\common.py:1123: FutureWarning: 'base' in .resample() and in Grouper() is deprecated.\n",
      "The new arguments that you should use are 'offset' or 'origin'.\n",
      "\n",
      ">>> df.resample(freq=\"3s\", base=2)\n",
      "\n",
      "becomes:\n",
      "\n",
      ">>> df.resample(freq=\"3s\", offset=\"2s\")\n",
      "\n",
      "  grouper = pd.Grouper(\n",
      "D:\\Github Desktop\\Antarctica-M.1\\modules\\dataprocessing.py:266: PendingDeprecationWarning: GroupBy.apply may be deprecated in the future. Using GroupBy.map is encouraged\n",
      "  new_data = new_data.groupby('time.month').apply(lambda group: group.sortby(group.time).interp(method='linear'))\n",
      "C:\\Users\\Hamish\\Anaconda3\\envs\\Antarctica\\lib\\site-packages\\xarray\\core\\common.py:1123: FutureWarning: 'base' in .resample() and in Grouper() is deprecated.\n",
      "The new arguments that you should use are 'offset' or 'origin'.\n",
      "\n",
      ">>> df.resample(freq=\"3s\", base=2)\n",
      "\n",
      "becomes:\n",
      "\n",
      ">>> df.resample(freq=\"3s\", offset=\"2s\")\n",
      "\n",
      "  grouper = pd.Grouper(\n"
     ]
    },
    {
     "name": "stdout",
     "output_type": "stream",
     "text": [
      "----------------------------------------------------------------------------------------------------------------------\n",
      "                                                        DONE                                                         \n",
      "----------------------------------------------------------------------------------------------------------------------\n"
     ]
    }
   ],
   "source": [
    "# Change resolution of data\n",
    "processor.decompose_and_save(resolutions            = resolutions,\n",
    "                             temporal_resolution    = temporal_resolution,\n",
    "                             temporal_decomposition = temporal_decomposition,\n",
    "                             detrend                = detrend)"
   ]
  },
  {
   "cell_type": "code",
   "execution_count": 1,
   "metadata": {},
   "outputs": [
    {
     "name": "stderr",
     "output_type": "stream",
     "text": [
      "2020-10-12 14:00:53,368 INFO Welcome to the CDS\n",
      "2020-10-12 14:00:53,376 INFO Sending request to https://cds.climate.copernicus.eu/api/v2/resources/reanalysis-era5-pressure-levels-monthly-means\n",
      "2020-10-12 14:00:53,933 INFO Request is completed\n",
      "2020-10-12 14:00:53,934 INFO Downloading http://136.156.132.105/cache-compute-0000/cache/data6/adaptor.mars.internal-1602372092.9960382-27702-9-02ae5139-5031-4ed0-8368-d46192a3ac8d.nc to new_data/ozone_mass_mixing_ratio.nc (5.8G)\n",
      "2020-10-12 14:21:48,161 INFO Download rate 4.7M/s                                                                                                 \n"
     ]
    }
   ],
   "source": [
    "import cdsapi\n",
    "\n",
    "c = cdsapi.Client()\n",
    "def download(variable):\n",
    "    c.retrieve(\n",
    "        'reanalysis-era5-pressure-levels-monthly-means',\n",
    "        {\n",
    "            'format': 'netcdf',\n",
    "            'product_type': 'monthly_averaged_reanalysis',\n",
    "            'variable': [\n",
    "    #             'ozone_mass_mixing_ratio', \n",
    "#                 'temperature', \n",
    "    #             'geopotential',\n",
    "    #             'u_component_of_wind',\n",
    "    #             'v_component_of_wind',\n",
    "                variable\n",
    "            ],\n",
    "            'pressure_level': [\n",
    "                '200', '500', '700',\n",
    "            ],\n",
    "            'year': [\n",
    "                '1979', '1980', '1981',\n",
    "                '1982', '1983', '1984',\n",
    "                '1985', '1986', '1987',\n",
    "                '1988', '1989', '1990',\n",
    "                '1991', '1992', '1993',\n",
    "                '1994', '1995', '1996',\n",
    "                '1997', '1998', '1999',\n",
    "                '2000', '2001', '2002',\n",
    "                '2003', '2004', '2005',\n",
    "                '2006', '2007', '2008',\n",
    "                '2009', '2010', '2011',\n",
    "                '2012', '2013', '2014',\n",
    "                '2015', '2016', '2017',\n",
    "                '2018', '2019', '2020',\n",
    "            ],\n",
    "            'month': [\n",
    "                '01', '02', '03',\n",
    "                '04', '05', '06',\n",
    "                '07', '08', '09',\n",
    "                '10', '11', '12',\n",
    "            ],\n",
    "            'time': '00:00',\n",
    "        },\n",
    "        f'new_data/{variable}.nc')\n",
    "for variable in [\n",
    "                'ozone_mass_mixing_ratio', \n",
    "#                 'temperature', \n",
    "#                 'geopotential',\n",
    "#                 'u_component_of_wind',\n",
    "#                 'v_component_of_wind',\n",
    "]:\n",
    "    try:\n",
    "        download(variable)\n",
    "    except:\n",
    "        print(variable)"
   ]
  },
  {
   "cell_type": "code",
   "execution_count": 1,
   "metadata": {},
   "outputs": [
    {
     "name": "stderr",
     "output_type": "stream",
     "text": [
      "2020-10-11 09:40:31,210 INFO Welcome to the CDS\n",
      "2020-10-11 09:40:31,214 INFO Sending request to https://cds.climate.copernicus.eu/api/v2/resources/reanalysis-era5-single-levels-monthly-means\n",
      "2020-10-11 09:40:33,023 INFO Request is queued\n",
      "2020-10-11 09:40:34,287 INFO Request is running\n",
      "2020-10-11 09:44:54,514 INFO Request is completed\n",
      "2020-10-11 09:44:54,515 INFO Downloading http://136.156.132.105/cache-compute-0000/cache/data7/adaptor.mars.internal-1602362435.348838-3722-9-fbe53fc8-3b19-45b5-b09e-b7b099ab86fa.nc to new_data/10m_u_component_of_wind.nc (1.9G)\n",
      "2020-10-11 10:01:30,219 INFO Download rate 2M/s                                                                                                                                                                                             \n",
      "2020-10-11 10:01:43,491 INFO Welcome to the CDS\n",
      "2020-10-11 10:01:43,492 INFO Sending request to https://cds.climate.copernicus.eu/api/v2/resources/reanalysis-era5-single-levels-monthly-means\n",
      "2020-10-11 10:01:44,222 INFO Request is queued\n",
      "2020-10-11 10:01:45,494 INFO Request is running\n",
      "2020-10-11 10:06:05,738 INFO Request is completed\n",
      "2020-10-11 10:06:05,740 INFO Downloading http://136.156.132.105/cache-compute-0000/cache/data4/adaptor.mars.internal-1602363706.8369102-14962-25-45179243-8200-4cc5-8b27-78ef5efa8c8e.nc to new_data/10m_v_component_of_wind.nc (1.9G)\n",
      "2020-10-11 10:21:07,710 INFO Download rate 2.2M/s                                                                                                                                                                                           \n",
      "2020-10-11 10:21:21,150 INFO Welcome to the CDS\n",
      "2020-10-11 10:21:21,151 INFO Sending request to https://cds.climate.copernicus.eu/api/v2/resources/reanalysis-era5-single-levels-monthly-means\n",
      "2020-10-11 10:21:21,883 INFO Request is queued\n",
      "2020-10-11 10:21:23,148 INFO Request is running\n",
      "2020-10-11 10:25:54,427 INFO Request is completed\n",
      "2020-10-11 10:25:54,429 INFO Downloading http://136.156.133.41/cache-compute-0013/cache/data8/adaptor.mars.internal-1602364883.9310415-10681-3-984cfc44-cedb-4b70-8cc3-f6ccb134ebce.nc to new_data/10m_wind_speed.nc (1.9G)\n",
      "2020-10-11 10:39:49,469 INFO Download rate 2.4M/s                                                                                                                                                                                           \n",
      "2020-10-11 10:40:01,577 INFO Welcome to the CDS\n",
      "2020-10-11 10:40:01,579 INFO Sending request to https://cds.climate.copernicus.eu/api/v2/resources/reanalysis-era5-single-levels-monthly-means\n",
      "2020-10-11 10:40:02,359 INFO Downloading http://136.156.132.201/cache-compute-0004/cache/data8/adaptor.mars.internal-1602126286.5536978-7956-5-a4cff8f3-6fb0-47f0-ae37-54e9d95ac947.nc to new_data/2m_temperature.nc (1.9G)\n",
      "2020-10-11 10:53:59,926 INFO Download rate 2.4M/s                                                                                                                                                                                           \n",
      "2020-10-11 10:54:13,219 INFO Welcome to the CDS\n",
      "2020-10-11 10:54:13,219 INFO Sending request to https://cds.climate.copernicus.eu/api/v2/resources/reanalysis-era5-single-levels-monthly-means\n",
      "2020-10-11 10:54:14,123 INFO Request is queued\n",
      "2020-10-11 10:54:15,403 INFO Request is running\n",
      "2020-10-11 10:58:35,672 INFO Request is completed\n",
      "2020-10-11 10:58:35,674 INFO Downloading http://136.156.133.37/cache-compute-0011/cache/data6/adaptor.mars.internal-1602366856.5417-1566-3-53cc684a-5ad2-4b13-8766-ffcd96dfb681.nc to new_data/sea_surface_temperature.nc (1.9G)\n",
      "2020-10-11 11:12:03,009 INFO Download rate 2.5M/s                                                                                                                                                                                           \n",
      "2020-10-11 11:12:16,764 INFO Welcome to the CDS\n",
      "2020-10-11 11:12:16,764 INFO Sending request to https://cds.climate.copernicus.eu/api/v2/resources/reanalysis-era5-single-levels-monthly-means\n",
      "2020-10-11 11:12:17,856 INFO Request is queued\n",
      "2020-10-11 11:12:20,889 INFO Request is running\n",
      "2020-10-11 11:16:50,445 INFO Request is completed\n",
      "2020-10-11 11:16:50,447 INFO Downloading http://136.156.133.37/cache-compute-0011/cache/data0/adaptor.mars.internal-1602367941.157911-3710-35-9d201439-c000-40e1-8320-f4b67aa5920c.nc to new_data/skin_temperature.nc (1.9G)\n",
      "2020-10-11 11:29:13,780 INFO Download rate 2.7M/s                                                                                                                                                                                           \n",
      "2020-10-11 11:29:27,053 INFO Welcome to the CDS\n",
      "2020-10-11 11:29:27,053 INFO Sending request to https://cds.climate.copernicus.eu/api/v2/resources/reanalysis-era5-single-levels-monthly-means\n",
      "2020-10-11 11:29:27,427 INFO Request is queued\n",
      "2020-10-11 11:29:28,693 INFO Request is running\n",
      "2020-10-11 11:34:00,582 INFO Request is completed\n",
      "2020-10-11 11:34:00,583 INFO Downloading http://136.156.133.42/cache-compute-0014/cache/data8/adaptor.mars.internal-1602368969.3984683-26473-25-ae1797a7-23d9-464b-941c-9258642831a8.nc to new_data/surface_net_solar_radiation.nc (1.9G)\n",
      "2020-10-11 11:45:57,961 INFO Download rate 2.8M/s                                                                                                                                                                                           \n",
      "2020-10-11 11:46:11,649 INFO Welcome to the CDS\n",
      "2020-10-11 11:46:11,650 INFO Sending request to https://cds.climate.copernicus.eu/api/v2/resources/reanalysis-era5-single-levels-monthly-means\n",
      "2020-10-11 11:46:12,219 INFO Request is queued\n",
      "2020-10-11 11:46:13,487 INFO Request is running\n",
      "2020-10-11 11:50:44,789 INFO Request is completed\n",
      "2020-10-11 11:50:44,791 INFO Downloading http://136.156.132.153/cache-compute-0002/cache/data4/adaptor.mars.internal-1602369974.662404-31140-7-3add9d0c-f0bf-48e5-a71f-9ab1c4642011.nc to new_data/surface_pressure.nc (1.9G)\n",
      "2020-10-11 12:04:46,613 INFO Download rate 2.4M/s                                                                                                                                                                                           \n",
      "2020-10-11 12:05:00,605 INFO Welcome to the CDS\n",
      "2020-10-11 12:05:00,605 INFO Sending request to https://cds.climate.copernicus.eu/api/v2/resources/reanalysis-era5-single-levels-monthly-means\n",
      "2020-10-11 12:05:01,612 INFO Request is queued\n",
      "2020-10-11 12:05:02,881 INFO Request is running\n",
      "2020-10-11 12:07:55,559 INFO Request is completed\n",
      "2020-10-11 12:07:55,561 INFO Downloading http://136.156.133.36/cache-compute-0010/cache/data2/adaptor.mars.internal-1602371103.9934764-5693-39-8fc43397-6b6c-4bc9-94da-eda63efc4b30.nc to new_data/surface_solar_radiation_downwards.nc (1.9G)\n",
      "2020-10-11 12:21:14,535 INFO Download rate 2.5M/s                                                                                                                                                                                           \n"
     ]
    }
   ],
   "source": [
    "import cdsapi\n",
    "\n",
    "c = cdsapi.Client()\n",
    "def download(variable):\n",
    "    c.retrieve(\n",
    "        'reanalysis-era5-single-levels-monthly-means',\n",
    "        {\n",
    "            'format': 'netcdf',\n",
    "            'product_type': 'monthly_averaged_reanalysis',\n",
    "            'variable': [variable],\n",
    "            'year': [\n",
    "                '1979', '1980', '1981',\n",
    "                '1982', '1983', '1984',\n",
    "                '1985', '1986', '1987',\n",
    "                '1988', '1989', '1990',\n",
    "                '1991', '1992', '1993',\n",
    "                '1994', '1995', '1996',\n",
    "                '1997', '1998', '1999',\n",
    "                '2000', '2001', '2002',\n",
    "                '2003', '2004', '2005',\n",
    "                '2006', '2007', '2008',\n",
    "                '2009', '2010', '2011',\n",
    "                '2012', '2013', '2014',\n",
    "                '2015', '2016', '2017',\n",
    "                '2018', '2019', '2020',\n",
    "            ],\n",
    "            'month': [\n",
    "                '01', '02', '03',\n",
    "                '04', '05', '06',\n",
    "                '07', '08', '09',\n",
    "                '10', '11', '12',\n",
    "            ],\n",
    "            'time': '00:00',\n",
    "        },\n",
    "        f'new_data/{variable}.nc')\n",
    "for variable in [\n",
    "                '10m_u_component_of_wind', '10m_v_component_of_wind', '10m_wind_speed',\n",
    "                '2m_temperature', 'sea_surface_temperature', 'skin_temperature',\n",
    "                'surface_net_solar_radiation', 'surface_pressure', 'surface_solar_radiation_downwards',\n",
    "            ]:\n",
    "    try:\n",
    "        download(variable)\n",
    "    except:\n",
    "        print(variable)"
   ]
  },
  {
   "cell_type": "code",
   "execution_count": null,
   "metadata": {},
   "outputs": [],
   "source": []
  }
 ],
 "metadata": {
  "kernelspec": {
   "display_name": "Python 3",
   "language": "python",
   "name": "python3"
  },
  "language_info": {
   "codemirror_mode": {
    "name": "ipython",
    "version": 3
   },
   "file_extension": ".py",
   "mimetype": "text/x-python",
   "name": "python",
   "nbconvert_exporter": "python",
   "pygments_lexer": "ipython3",
   "version": "3.8.5"
  }
 },
 "nbformat": 4,
 "nbformat_minor": 4
}
