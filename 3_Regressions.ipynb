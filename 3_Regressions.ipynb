{
 "cells": [
  {
   "cell_type": "markdown",
   "metadata": {},
   "source": [
    "# Regressions \n",
    "\n",
    "This notebook is used to generate results for the regression analysis."
   ]
  },
  {
   "cell_type": "code",
   "execution_count": 6,
   "metadata": {},
   "outputs": [
    {
     "name": "stdout",
     "output_type": "stream",
     "text": [
      "The autoreload extension is already loaded. To reload it, use:\n",
      "  %reload_ext autoreload\n"
     ]
    }
   ],
   "source": [
    "# Loading modules.\n",
    "# regressions can be accessed with regr.\n",
    "# plotting can be accessed with plot.\n",
    "\n",
    "from modules import *\n",
    "import itertools\n",
    "\n",
    "%load_ext autoreload\n",
    "%autoreload 2"
   ]
  },
  {
   "cell_type": "code",
   "execution_count": 7,
   "metadata": {},
   "outputs": [],
   "source": [
    "# What data to load\n",
    "load_seaice   = True\n",
    "load_indicies = True\n",
    "load_ERA5     = False\n",
    "\n",
    "# What indicies and variables\n",
    "indicies  = ['SAM','IPO', 'DMI', 'ENSO']\n",
    "variables = ['t2m']\n",
    "\n",
    "# Resolutions to save data as.\n",
    "resolutions = [1,5]\n",
    "n = 5\n",
    "\n",
    "# temporal averages\n",
    "temporal_resolution = ['monthly', 'seasonal', 'annual']\n",
    "\n",
    "# temporal_breakdown\n",
    "temporal_decomposition = ['raw', 'anomalous']\n",
    "\n",
    "# detrending\n",
    "detrend = ['raw', 'detrended']"
   ]
  },
  {
   "cell_type": "code",
   "execution_count": 54,
   "metadata": {},
   "outputs": [
    {
     "name": "stdout",
     "output_type": "stream",
     "text": [
      "1 monthly raw raw\n",
      "    Computing regression for mean SIC\n",
      "    Computing spatial regression\n",
      "    Computing comprehensive regression for mean SIC\n",
      "    Computing spatial comprehensive regression\n",
      "    Saving results\n"
     ]
    },
    {
     "ename": "AttributeError",
     "evalue": "'regressor' object has no attribute 'single_regressions'",
     "output_type": "error",
     "traceback": [
      "\u001b[1;31m---------------------------------------------------------------------------\u001b[0m",
      "\u001b[1;31mAttributeError\u001b[0m                            Traceback (most recent call last)",
      "\u001b[1;32m<ipython-input-54-373386dbdff9>\u001b[0m in \u001b[0;36m<module>\u001b[1;34m\u001b[0m\n\u001b[0;32m     19\u001b[0m     \u001b[0mregressor\u001b[0m\u001b[1;33m.\u001b[0m\u001b[0mmultiple_spatial_regression\u001b[0m\u001b[1;33m(\u001b[0m\u001b[1;33m)\u001b[0m\u001b[1;33m\u001b[0m\u001b[1;33m\u001b[0m\u001b[0m\n\u001b[0;32m     20\u001b[0m     \u001b[0mprint\u001b[0m\u001b[1;33m(\u001b[0m\u001b[1;34m'    Saving results'\u001b[0m\u001b[1;33m)\u001b[0m\u001b[1;33m\u001b[0m\u001b[1;33m\u001b[0m\u001b[0m\n\u001b[1;32m---> 21\u001b[1;33m     \u001b[0mregressor\u001b[0m\u001b[1;33m.\u001b[0m\u001b[0msave_data\u001b[0m\u001b[1;33m(\u001b[0m\u001b[1;33m)\u001b[0m\u001b[1;33m\u001b[0m\u001b[1;33m\u001b[0m\u001b[0m\n\u001b[0m",
      "\u001b[1;32mH:\\Github\\Antarctica-M.1\\modules\\regressions.py\u001b[0m in \u001b[0;36msave_data\u001b[1;34m(self)\u001b[0m\n\u001b[0;32m    274\u001b[0m \u001b[1;33m\u001b[0m\u001b[0m\n\u001b[0;32m    275\u001b[0m         \u001b[1;31m# Single regressions\u001b[0m\u001b[1;33m\u001b[0m\u001b[1;33m\u001b[0m\u001b[1;33m\u001b[0m\u001b[0m\n\u001b[1;32m--> 276\u001b[1;33m         \u001b[0mxarray\u001b[0m \u001b[1;33m=\u001b[0m \u001b[0mxr\u001b[0m\u001b[1;33m.\u001b[0m\u001b[0mDataset\u001b[0m\u001b[1;33m(\u001b[0m\u001b[0mself\u001b[0m\u001b[1;33m.\u001b[0m\u001b[0msingle_regressions\u001b[0m\u001b[1;33m)\u001b[0m\u001b[1;33m\u001b[0m\u001b[1;33m\u001b[0m\u001b[0m\n\u001b[0m\u001b[0;32m    277\u001b[0m         \u001b[0mxarray\u001b[0m\u001b[1;33m.\u001b[0m\u001b[0mto_netcdf\u001b[0m\u001b[1;33m(\u001b[0m\u001b[0mself\u001b[0m\u001b[1;33m.\u001b[0m\u001b[0moutputfolder\u001b[0m \u001b[1;33m+\u001b[0m \u001b[1;34m'single/regr_'\u001b[0m \u001b[1;33m+\u001b[0m \u001b[0mfilename\u001b[0m \u001b[1;33m+\u001b[0m \u001b[1;34m'.nc'\u001b[0m\u001b[1;33m)\u001b[0m\u001b[1;33m\u001b[0m\u001b[1;33m\u001b[0m\u001b[0m\n\u001b[0;32m    278\u001b[0m         \u001b[0mxarray\u001b[0m \u001b[1;33m=\u001b[0m \u001b[0mxr\u001b[0m\u001b[1;33m.\u001b[0m\u001b[0mDataset\u001b[0m\u001b[1;33m(\u001b[0m\u001b[0mself\u001b[0m\u001b[1;33m.\u001b[0m\u001b[0msingle_pvalue\u001b[0m\u001b[1;33m)\u001b[0m\u001b[1;33m\u001b[0m\u001b[1;33m\u001b[0m\u001b[0m\n",
      "\u001b[1;31mAttributeError\u001b[0m: 'regressor' object has no attribute 'single_regressions'"
     ]
    }
   ],
   "source": [
    "for n, temp_res, temp_decomp, dt in itertools.product(resolutions, temporal_resolution, temporal_decomposition, detrend):\n",
    "    print(n, temp_res, temp_decomp, dt)\n",
    "    regressor = regr.regressor(process_seaice = load_seaice,\n",
    "                                 process_indicies = load_indicies,\n",
    "                                 indicies = indicies,\n",
    "                                 anomlous = temp_decomp == 'anomalous',\n",
    "                                 temporal_resolution = temp_res,\n",
    "                                 spatial_resolution = n,\n",
    "                                 detrend = dt == 'detrended',\n",
    "                                 outputfolder = 'processed_data/regressions/',\n",
    "                                 input_folder = 'processed_data/')\n",
    "    print('    Computing regression for mean SIC')\n",
    "    regressor.regress_mean_sic_indicies()\n",
    "    print('    Computing spatial regression')\n",
    "    regressor.regress_spatial_sic_indicies()\n",
    "    print('    Computing comprehensive regression for mean SIC')\n",
    "    regressor.multiple_regression()\n",
    "    print('    Computing spatial comprehensive regression')\n",
    "    regressor.multiple_spatial_regression()\n",
    "    print('    Saving results')\n",
    "    regressor.save_data()"
   ]
  },
  {
   "cell_type": "code",
   "execution_count": 62,
   "metadata": {},
   "outputs": [
    {
     "name": "stdout",
     "output_type": "stream",
     "text": [
      "<xarray.Dataset>\n",
      "Dimensions:  (x: 316, y: 332)\n",
      "Coordinates:\n",
      "  * y        (y) int32 4350000 4325000 4300000 ... -3875000 -3900000 -3925000\n",
      "  * x        (x) int32 -3950000 -3925000 -3900000 ... 3875000 3900000 3925000\n",
      "Data variables:\n",
      "    SAM      (y, x) float64 1.171e-09 1.171e-09 ... 1.171e-09 1.171e-09\n",
      "    IPO      (y, x) float64 2.683e-09 2.683e-09 ... 2.683e-09 2.683e-09\n",
      "    DMI      (y, x) float64 -1.079e-09 -1.079e-09 ... -1.079e-09 -1.079e-09\n",
      "    ENSO     (y, x) float64 2.092e-09 2.092e-09 ... 2.092e-09 2.092e-09\n",
      "    error    (y, x) float64 -0.7828 -0.7828 -0.7828 ... -0.7828 -0.7828 -0.7828\n"
     ]
    }
   ],
   "source": [
    "regressor.multiple_spatial_regression()\n",
    "regressor.save_data()"
   ]
  }
 ],
 "metadata": {
  "kernelspec": {
   "display_name": "Python 3",
   "language": "python",
   "name": "python3"
  },
  "language_info": {
   "codemirror_mode": {
    "name": "ipython",
    "version": 3
   },
   "file_extension": ".py",
   "mimetype": "text/x-python",
   "name": "python",
   "nbconvert_exporter": "python",
   "pygments_lexer": "ipython3",
   "version": "3.8.3"
  }
 },
 "nbformat": 4,
 "nbformat_minor": 4
}
