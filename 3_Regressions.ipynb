{
 "cells": [
  {
   "cell_type": "markdown",
   "metadata": {},
   "source": [
    "# Regressions \n",
    "\n",
    "This notebook is used to generate results for the regression analysis."
   ]
  },
  {
   "cell_type": "code",
   "execution_count": 1,
   "metadata": {},
   "outputs": [],
   "source": [
    "# Loading modules.\n",
    "# regressions can be accessed with regr.\n",
    "# plotting can be accessed with plot.\n",
    "\n",
    "from modules import *\n",
    "import itertools\n",
    "\n",
    "%load_ext autoreload\n",
    "%autoreload 2"
   ]
  },
  {
   "cell_type": "code",
   "execution_count": 2,
   "metadata": {},
   "outputs": [],
   "source": [
    "# What data to load\n",
    "load_seaice   = True\n",
    "load_indicies = True\n",
    "load_ERA5     = False\n",
    "\n",
    "# What indicies and variables\n",
    "indicies  = ['SAM','IPO', 'DMI', 'ENSO']\n",
    "variables = ['t2m']\n",
    "\n",
    "# Resolutions to save data as.\n",
    "resolutions = [1,5]\n",
    "n = 5\n",
    "\n",
    "# temporal averages\n",
    "temporal_resolution = ['monthly', 'seasonal', 'annual']\n",
    "\n",
    "# temporal_breakdown\n",
    "temporal_decomposition = ['raw', 'anomalous']\n",
    "\n",
    "# detrending\n",
    "detrend = ['raw', 'detrended']"
   ]
  },
  {
   "cell_type": "code",
   "execution_count": 3,
   "metadata": {},
   "outputs": [
    {
     "name": "stdout",
     "output_type": "stream",
     "text": [
      "1 monthly raw raw\n",
      "    Computing regression for mean SIC\n",
      "    Computing spatial regression\n",
      "    Computing comprehensive regression for mean SIC\n",
      "    Computing spatial comprehensive regression\n",
      "    Saving results\n",
      "1 monthly raw detrended\n",
      "    Computing regression for mean SIC\n",
      "    Computing spatial regression\n",
      "    Computing comprehensive regression for mean SIC\n",
      "    Computing spatial comprehensive regression\n"
     ]
    },
    {
     "name": "stderr",
     "output_type": "stream",
     "text": [
      "C:\\Users\\hjel867\\AppData\\Local\\Continuum\\anaconda3\\envs\\Antarctica_1\\lib\\site-packages\\scipy\\optimize\\minpack.py:828: OptimizeWarning: Covariance of the parameters could not be estimated\n",
      "  warnings.warn('Covariance of the parameters could not be estimated',\n"
     ]
    },
    {
     "name": "stdout",
     "output_type": "stream",
     "text": [
      "    Saving results\n",
      "1 monthly anomalous raw\n",
      "    Computing regression for mean SIC\n",
      "    Computing spatial regression\n",
      "    Computing comprehensive regression for mean SIC\n",
      "    Computing spatial comprehensive regression\n",
      "    Saving results\n",
      "1 monthly anomalous detrended\n",
      "    Computing regression for mean SIC\n",
      "    Computing spatial regression\n",
      "    Computing comprehensive regression for mean SIC\n",
      "    Computing spatial comprehensive regression\n",
      "    Saving results\n",
      "1 seasonal raw raw\n",
      "    Computing regression for mean SIC\n",
      "    Computing spatial regression\n",
      "    Computing comprehensive regression for mean SIC\n",
      "    Computing spatial comprehensive regression\n"
     ]
    },
    {
     "name": "stderr",
     "output_type": "stream",
     "text": [
      "C:\\Users\\hjel867\\AppData\\Local\\Continuum\\anaconda3\\envs\\Antarctica_1\\lib\\site-packages\\scipy\\optimize\\minpack.py:828: OptimizeWarning: Covariance of the parameters could not be estimated\n",
      "  warnings.warn('Covariance of the parameters could not be estimated',\n"
     ]
    },
    {
     "name": "stdout",
     "output_type": "stream",
     "text": [
      "    Saving results\n",
      "1 seasonal raw detrended\n",
      "    Computing regression for mean SIC\n",
      "    Computing spatial regression\n",
      "    Computing comprehensive regression for mean SIC\n",
      "    Computing spatial comprehensive regression\n"
     ]
    },
    {
     "name": "stderr",
     "output_type": "stream",
     "text": [
      "C:\\Users\\hjel867\\AppData\\Local\\Continuum\\anaconda3\\envs\\Antarctica_1\\lib\\site-packages\\scipy\\optimize\\minpack.py:828: OptimizeWarning: Covariance of the parameters could not be estimated\n",
      "  warnings.warn('Covariance of the parameters could not be estimated',\n"
     ]
    },
    {
     "name": "stdout",
     "output_type": "stream",
     "text": [
      "    Saving results\n",
      "1 seasonal anomalous raw\n",
      "    Computing regression for mean SIC\n",
      "    Computing spatial regression\n",
      "    Computing comprehensive regression for mean SIC\n",
      "    Computing spatial comprehensive regression\n"
     ]
    },
    {
     "name": "stderr",
     "output_type": "stream",
     "text": [
      "C:\\Users\\hjel867\\AppData\\Local\\Continuum\\anaconda3\\envs\\Antarctica_1\\lib\\site-packages\\scipy\\optimize\\minpack.py:828: OptimizeWarning: Covariance of the parameters could not be estimated\n",
      "  warnings.warn('Covariance of the parameters could not be estimated',\n"
     ]
    },
    {
     "name": "stdout",
     "output_type": "stream",
     "text": [
      "    Saving results\n",
      "1 seasonal anomalous detrended\n",
      "    Computing regression for mean SIC\n",
      "    Computing spatial regression\n",
      "    Computing comprehensive regression for mean SIC\n",
      "    Computing spatial comprehensive regression\n",
      "    Saving results\n",
      "1 annual raw raw\n",
      "    Computing regression for mean SIC\n",
      "    Computing spatial regression\n",
      "    Computing comprehensive regression for mean SIC\n",
      "    Computing spatial comprehensive regression\n"
     ]
    },
    {
     "name": "stderr",
     "output_type": "stream",
     "text": [
      "C:\\Users\\hjel867\\AppData\\Local\\Continuum\\anaconda3\\envs\\Antarctica_1\\lib\\site-packages\\scipy\\optimize\\minpack.py:828: OptimizeWarning: Covariance of the parameters could not be estimated\n",
      "  warnings.warn('Covariance of the parameters could not be estimated',\n"
     ]
    },
    {
     "name": "stdout",
     "output_type": "stream",
     "text": [
      "    Saving results\n",
      "1 annual raw detrended\n",
      "    Computing regression for mean SIC\n",
      "    Computing spatial regression\n",
      "    Computing comprehensive regression for mean SIC\n",
      "    Computing spatial comprehensive regression\n"
     ]
    },
    {
     "name": "stderr",
     "output_type": "stream",
     "text": [
      "C:\\Users\\hjel867\\AppData\\Local\\Continuum\\anaconda3\\envs\\Antarctica_1\\lib\\site-packages\\scipy\\optimize\\minpack.py:828: OptimizeWarning: Covariance of the parameters could not be estimated\n",
      "  warnings.warn('Covariance of the parameters could not be estimated',\n"
     ]
    },
    {
     "name": "stdout",
     "output_type": "stream",
     "text": [
      "    Saving results\n",
      "1 annual anomalous raw\n",
      "    Computing regression for mean SIC\n",
      "    Computing spatial regression\n",
      "    Computing comprehensive regression for mean SIC\n",
      "    Computing spatial comprehensive regression\n",
      "    Saving results\n",
      "1 annual anomalous detrended\n",
      "    Computing regression for mean SIC\n",
      "    Computing spatial regression\n",
      "    Computing comprehensive regression for mean SIC\n",
      "    Computing spatial comprehensive regression\n",
      "    Saving results\n",
      "5 monthly raw raw\n",
      "    Computing regression for mean SIC\n",
      "    Computing spatial regression\n",
      "    Computing comprehensive regression for mean SIC\n",
      "    Computing spatial comprehensive regression\n"
     ]
    },
    {
     "name": "stderr",
     "output_type": "stream",
     "text": [
      "C:\\Users\\hjel867\\AppData\\Local\\Continuum\\anaconda3\\envs\\Antarctica_1\\lib\\site-packages\\scipy\\optimize\\minpack.py:828: OptimizeWarning: Covariance of the parameters could not be estimated\n",
      "  warnings.warn('Covariance of the parameters could not be estimated',\n"
     ]
    },
    {
     "name": "stdout",
     "output_type": "stream",
     "text": [
      "    Saving results\n",
      "5 monthly raw detrended\n",
      "    Computing regression for mean SIC\n",
      "    Computing spatial regression\n",
      "    Computing comprehensive regression for mean SIC\n",
      "    Computing spatial comprehensive regression\n",
      "    Saving results\n",
      "5 monthly anomalous raw\n",
      "    Computing regression for mean SIC\n",
      "    Computing spatial regression\n",
      "    Computing comprehensive regression for mean SIC\n",
      "    Computing spatial comprehensive regression\n",
      "    Saving results\n",
      "5 monthly anomalous detrended\n",
      "    Computing regression for mean SIC\n",
      "    Computing spatial regression\n",
      "    Computing comprehensive regression for mean SIC\n",
      "    Computing spatial comprehensive regression\n",
      "    Saving results\n",
      "5 seasonal raw raw\n",
      "    Computing regression for mean SIC\n",
      "    Computing spatial regression\n",
      "    Computing comprehensive regression for mean SIC\n",
      "    Computing spatial comprehensive regression\n",
      "    Saving results\n",
      "5 seasonal raw detrended\n",
      "    Computing regression for mean SIC\n",
      "    Computing spatial regression\n",
      "    Computing comprehensive regression for mean SIC\n",
      "    Computing spatial comprehensive regression\n",
      "    Saving results\n",
      "5 seasonal anomalous raw\n",
      "    Computing regression for mean SIC\n",
      "    Computing spatial regression\n",
      "    Computing comprehensive regression for mean SIC\n",
      "    Computing spatial comprehensive regression\n",
      "    Saving results\n",
      "5 seasonal anomalous detrended\n",
      "    Computing regression for mean SIC\n",
      "    Computing spatial regression\n",
      "    Computing comprehensive regression for mean SIC\n",
      "    Computing spatial comprehensive regression\n",
      "    Saving results\n",
      "5 annual raw raw\n",
      "    Computing regression for mean SIC\n",
      "    Computing spatial regression\n",
      "    Computing comprehensive regression for mean SIC\n",
      "    Computing spatial comprehensive regression\n",
      "    Saving results\n",
      "5 annual raw detrended\n",
      "    Computing regression for mean SIC\n",
      "    Computing spatial regression\n",
      "    Computing comprehensive regression for mean SIC\n",
      "    Computing spatial comprehensive regression\n"
     ]
    },
    {
     "name": "stderr",
     "output_type": "stream",
     "text": [
      "C:\\Users\\hjel867\\AppData\\Local\\Continuum\\anaconda3\\envs\\Antarctica_1\\lib\\site-packages\\scipy\\optimize\\minpack.py:828: OptimizeWarning: Covariance of the parameters could not be estimated\n",
      "  warnings.warn('Covariance of the parameters could not be estimated',\n"
     ]
    },
    {
     "name": "stdout",
     "output_type": "stream",
     "text": [
      "    Saving results\n",
      "5 annual anomalous raw\n",
      "    Computing regression for mean SIC\n",
      "    Computing spatial regression\n",
      "    Computing comprehensive regression for mean SIC\n",
      "    Computing spatial comprehensive regression\n",
      "    Saving results\n",
      "5 annual anomalous detrended\n",
      "    Computing regression for mean SIC\n",
      "    Computing spatial regression\n",
      "    Computing comprehensive regression for mean SIC\n",
      "    Computing spatial comprehensive regression\n",
      "    Saving results\n"
     ]
    }
   ],
   "source": [
    "for n, temp_res, temp_decomp, dt in itertools.product(resolutions, temporal_resolution, temporal_decomposition, detrend):\n",
    "    print(n, temp_res, temp_decomp, dt)\n",
    "    regressor = regr.regressor(process_seaice = load_seaice,\n",
    "                                 process_indicies = load_indicies,\n",
    "                                 indicies = indicies,\n",
    "                                 anomlous = temp_decomp == 'anomalous',\n",
    "                                 temporal_resolution = temp_res,\n",
    "                                 spatial_resolution = n,\n",
    "                                 detrend = dt == 'detrended',\n",
    "                                 outputfolder = 'processed_data/regressions/',\n",
    "                                 input_folder = 'processed_data/')\n",
    "    print('    Computing regression for mean SIC')\n",
    "    regressor.regress_mean_sic_indicies()\n",
    "    print('    Computing spatial regression')\n",
    "    regressor.regress_spatial_sic_indicies()\n",
    "    print('    Computing comprehensive regression for mean SIC')\n",
    "    regressor.multiple_regression()\n",
    "    print('    Computing spatial comprehensive regression')\n",
    "    regressor.multiple_spatial_regression()\n",
    "    print('    Saving results')\n",
    "    regressor.save_data()"
   ]
  },
  {
   "cell_type": "code",
   "execution_count": null,
   "metadata": {},
   "outputs": [],
   "source": []
  }
 ],
 "metadata": {
  "kernelspec": {
   "display_name": "Python 3",
   "language": "python",
   "name": "python3"
  },
  "language_info": {
   "codemirror_mode": {
    "name": "ipython",
    "version": 3
   },
   "file_extension": ".py",
   "mimetype": "text/x-python",
   "name": "python",
   "nbconvert_exporter": "python",
   "pygments_lexer": "ipython3",
   "version": "3.8.3"
  }
 },
 "nbformat": 4,
 "nbformat_minor": 4
}
